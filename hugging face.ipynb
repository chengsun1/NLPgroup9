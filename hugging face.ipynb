{
 "cells": [
  {
   "cell_type": "code",
   "execution_count": 1,
   "metadata": {
    "collapsed": true,
    "ExecuteTime": {
     "end_time": "2023-07-16T16:39:31.555533Z",
     "start_time": "2023-07-16T16:39:24.847799Z"
    }
   },
   "outputs": [],
   "source": [
    "import numpy as np\n",
    "import pandas as pd\n",
    "import tomotopy as tp\n",
    "import torch\n",
    "import spacy\n",
    "import tensorflow as tf\n",
    "import matplotlib.pyplot as plt\n",
    "import seaborn as sns\n",
    "# Use a pipeline as a high-level helper\n",
    "from transformers import pipeline\n",
    "pipe = pipeline(\"text-classification\", model=\"nlptown/bert-base-multilingual-uncased-sentiment\")"
   ]
  },
  {
   "cell_type": "code",
   "execution_count": 2,
   "metadata": {
    "ExecuteTime": {
     "end_time": "2023-07-16T16:39:39.521189Z",
     "start_time": "2023-07-16T16:39:39.366240Z"
    }
   },
   "outputs": [],
   "source": [
    "dftr = pd.read_csv('Data/train.csv')\n",
    "dft = pd.read_csv('Data/test.csv')"
   ]
  },
  {
   "cell_type": "code",
   "execution_count": 3,
   "metadata": {
    "ExecuteTime": {
     "end_time": "2023-07-16T16:39:40.962731Z",
     "start_time": "2023-07-16T16:39:40.519935Z"
    }
   },
   "outputs": [],
   "source": [
    "nlp = spacy.load('en_core_web_sm')"
   ]
  },
  {
   "cell_type": "code",
   "execution_count": 4,
   "metadata": {
    "ExecuteTime": {
     "end_time": "2023-07-16T16:39:41.484850Z",
     "start_time": "2023-07-16T16:39:41.480755Z"
    }
   },
   "outputs": [],
   "source": [
    "okay = dftr.loc[dftr['label']==0,['label','text']]\n",
    "good = dftr.loc[dftr['label']==1,['label','text']]\n",
    "excellent = dftr.loc[dftr['label']==2,['label','text']]\n",
    "s = pd.concat([okay,good,excellent])"
   ]
  },
  {
   "cell_type": "code",
   "execution_count": null,
   "metadata": {
    "is_executing": true,
    "ExecuteTime": {
     "start_time": "2023-07-16T16:43:25.276184Z"
    }
   },
   "outputs": [],
   "source": [
    "docs = nlp.pipe(\n",
    "    s.loc[:,'text'].str.lower(),\n",
    "    n_process=4,\n",
    "    batch_size=1000,\n",
    "    disable = ['tok2vec']\n",
    ")\n",
    "tkns_docs = []\n",
    "for doc in docs:\n",
    "    tmp = []\n",
    "    for token in doc:\n",
    "        if (\n",
    "            token.is_stop == False\n",
    "            and token.is_punct == False\n",
    "            and token.is_space == False\n",
    "            and token.like_num == False\n",
    "            and token.like_url == False\n",
    "            and token.is_oov == False\n",
    "        ):\n",
    "            tmp.append(token.lemma_)\n",
    "    tkns_docs.append(tmp)\n",
    "    del tmp"
   ]
  },
  {
   "cell_type": "code",
   "execution_count": 7,
   "outputs": [],
   "source": [],
   "metadata": {
    "collapsed": false,
    "ExecuteTime": {
     "end_time": "2023-07-16T16:36:40.987485Z",
     "start_time": "2023-07-16T16:36:40.784594Z"
    }
   }
  }
 ],
 "metadata": {
  "kernelspec": {
   "display_name": "Python 3 (ipykernel)",
   "language": "python",
   "name": "python3"
  },
  "language_info": {
   "codemirror_mode": {
    "name": "ipython",
    "version": 3
   },
   "file_extension": ".py",
   "mimetype": "text/x-python",
   "name": "python",
   "nbconvert_exporter": "python",
   "pygments_lexer": "ipython3",
   "version": "3.10.11"
  }
 },
 "nbformat": 4,
 "nbformat_minor": 1
}
